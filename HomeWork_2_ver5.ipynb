{
 "cells": [
  {
   "cell_type": "code",
   "execution_count": 16,
   "id": "edf07d26",
   "metadata": {},
   "outputs": [],
   "source": [
    "# import required modules\n",
    "# Используем dask, распараллеллим вычисления, pandas не вытягивает такой объем (только если частями выкачивать)\n",
    "from dask import dataframe as dd\n",
    "dask_df = dd.read_csv('data/train.csv')"
   ]
  },
  {
   "cell_type": "code",
   "execution_count": 17,
   "id": "72db370e",
   "metadata": {},
   "outputs": [
    {
     "name": "stderr",
     "output_type": "stream",
     "text": [
      "C:\\Users\\a_l_b\\anaconda3\\lib\\site-packages\\dask\\dataframe\\io\\csv.py:181: DtypeWarning: Columns (9) have mixed types. Specify dtype option on import or set low_memory=False.\n",
      "  df = reader(bio, **kwargs)\n"
     ]
    }
   ],
   "source": [
    "# Отдельно выберем лекции и поработаем с ними\n",
    "dask_df_l = dask_df.loc[dask_df[\"content_type_id\"] == 1].compute()\n",
    "# Удалим не нужные нас столбцы row_id, content_type_id (в датафрейме только лекции), \n",
    "# user_answer, answered_correctly, prior_question_elapsed_time, prior_question_had_explanation\n",
    "dask_df_l = dask_df_l.drop('row_id', axis=1)\n",
    "dask_df_l = dask_df_l.drop('timestamp', axis=1)\n",
    "dask_df_l = dask_df_l.drop('content_type_id', axis=1)\n",
    "dask_df_l = dask_df_l.drop('user_answer', axis=1)\n",
    "dask_df_l = dask_df_l.drop('answered_correctly', axis=1)\n",
    "dask_df_l = dask_df_l.drop('prior_question_elapsed_time', axis=1)\n",
    "dask_df_l = dask_df_l.drop('prior_question_had_explanation', axis=1)"
   ]
  },
  {
   "cell_type": "code",
   "execution_count": 18,
   "id": "016e6d99",
   "metadata": {},
   "outputs": [
    {
     "data": {
      "text/html": [
       "<div>\n",
       "<style scoped>\n",
       "    .dataframe tbody tr th:only-of-type {\n",
       "        vertical-align: middle;\n",
       "    }\n",
       "\n",
       "    .dataframe tbody tr th {\n",
       "        vertical-align: top;\n",
       "    }\n",
       "\n",
       "    .dataframe thead th {\n",
       "        text-align: right;\n",
       "    }\n",
       "</style>\n",
       "<table border=\"1\" class=\"dataframe\">\n",
       "  <thead>\n",
       "    <tr style=\"text-align: right;\">\n",
       "      <th></th>\n",
       "      <th>lecture_id</th>\n",
       "      <th>tag</th>\n",
       "      <th>part</th>\n",
       "      <th>type_of</th>\n",
       "    </tr>\n",
       "  </thead>\n",
       "  <tbody>\n",
       "    <tr>\n",
       "      <th>0</th>\n",
       "      <td>89</td>\n",
       "      <td>159</td>\n",
       "      <td>5</td>\n",
       "      <td>concept</td>\n",
       "    </tr>\n",
       "    <tr>\n",
       "      <th>1</th>\n",
       "      <td>100</td>\n",
       "      <td>70</td>\n",
       "      <td>1</td>\n",
       "      <td>concept</td>\n",
       "    </tr>\n",
       "    <tr>\n",
       "      <th>2</th>\n",
       "      <td>185</td>\n",
       "      <td>45</td>\n",
       "      <td>6</td>\n",
       "      <td>concept</td>\n",
       "    </tr>\n",
       "    <tr>\n",
       "      <th>3</th>\n",
       "      <td>192</td>\n",
       "      <td>79</td>\n",
       "      <td>5</td>\n",
       "      <td>solving question</td>\n",
       "    </tr>\n",
       "    <tr>\n",
       "      <th>4</th>\n",
       "      <td>317</td>\n",
       "      <td>156</td>\n",
       "      <td>5</td>\n",
       "      <td>solving question</td>\n",
       "    </tr>\n",
       "  </tbody>\n",
       "</table>\n",
       "</div>"
      ],
      "text/plain": [
       "   lecture_id  tag  part           type_of\n",
       "0          89  159     5           concept\n",
       "1         100   70     1           concept\n",
       "2         185   45     6           concept\n",
       "3         192   79     5  solving question\n",
       "4         317  156     5  solving question"
      ]
     },
     "metadata": {},
     "output_type": "display_data"
    }
   ],
   "source": [
    "# Выгрузим лекции в датафрейм\n",
    "#lectures = dd.read_csv('data/lectures.csv')\n",
    "import pandas as pd\n",
    "lectures = pd.read_csv('data/lectures.csv')\n",
    "display(lectures.head())"
   ]
  },
  {
   "cell_type": "code",
   "execution_count": 19,
   "id": "4c1ad331",
   "metadata": {},
   "outputs": [],
   "source": [
    "# Переименуем название поля lecture_id в content_id, создав копию с другим именем и удалив старый(это нужно чтоб соединить по content_id)\n",
    "lectures['content_id'] = lectures['lecture_id']\n",
    "lectures = lectures.drop('lecture_id', axis=1)\n",
    "# Соединим два датафрейма\n",
    "lectures_join = dask_df_l.merge(lectures, how=\"left\", on=[\"content_id\"])"
   ]
  },
  {
   "cell_type": "code",
   "execution_count": 21,
   "id": "431fabf1",
   "metadata": {},
   "outputs": [
    {
     "data": {
      "text/html": [
       "<div>\n",
       "<style scoped>\n",
       "    .dataframe tbody tr th:only-of-type {\n",
       "        vertical-align: middle;\n",
       "    }\n",
       "\n",
       "    .dataframe tbody tr th {\n",
       "        vertical-align: top;\n",
       "    }\n",
       "\n",
       "    .dataframe thead th {\n",
       "        text-align: right;\n",
       "    }\n",
       "</style>\n",
       "<table border=\"1\" class=\"dataframe\">\n",
       "  <thead>\n",
       "    <tr style=\"text-align: right;\">\n",
       "      <th></th>\n",
       "      <th>user_id</th>\n",
       "      <th>lec</th>\n",
       "    </tr>\n",
       "  </thead>\n",
       "  <tbody>\n",
       "    <tr>\n",
       "      <th>0</th>\n",
       "      <td>2746</td>\n",
       "      <td>1</td>\n",
       "    </tr>\n",
       "    <tr>\n",
       "      <th>1</th>\n",
       "      <td>5382</td>\n",
       "      <td>1</td>\n",
       "    </tr>\n",
       "    <tr>\n",
       "      <th>2</th>\n",
       "      <td>8623</td>\n",
       "      <td>1</td>\n",
       "    </tr>\n",
       "    <tr>\n",
       "      <th>3</th>\n",
       "      <td>12741</td>\n",
       "      <td>1</td>\n",
       "    </tr>\n",
       "    <tr>\n",
       "      <th>4</th>\n",
       "      <td>13134</td>\n",
       "      <td>1</td>\n",
       "    </tr>\n",
       "    <tr>\n",
       "      <th>...</th>\n",
       "      <td>...</td>\n",
       "      <td>...</td>\n",
       "    </tr>\n",
       "    <tr>\n",
       "      <th>149601</th>\n",
       "      <td>2147419988</td>\n",
       "      <td>1</td>\n",
       "    </tr>\n",
       "    <tr>\n",
       "      <th>149602</th>\n",
       "      <td>2147469944</td>\n",
       "      <td>1</td>\n",
       "    </tr>\n",
       "    <tr>\n",
       "      <th>149603</th>\n",
       "      <td>2147470770</td>\n",
       "      <td>1</td>\n",
       "    </tr>\n",
       "    <tr>\n",
       "      <th>149604</th>\n",
       "      <td>2147470777</td>\n",
       "      <td>1</td>\n",
       "    </tr>\n",
       "    <tr>\n",
       "      <th>149605</th>\n",
       "      <td>2147482216</td>\n",
       "      <td>1</td>\n",
       "    </tr>\n",
       "  </tbody>\n",
       "</table>\n",
       "<p>149606 rows × 2 columns</p>\n",
       "</div>"
      ],
      "text/plain": [
       "           user_id  lec\n",
       "0             2746    1\n",
       "1             5382    1\n",
       "2             8623    1\n",
       "3            12741    1\n",
       "4            13134    1\n",
       "...            ...  ...\n",
       "149601  2147419988    1\n",
       "149602  2147469944    1\n",
       "149603  2147470770    1\n",
       "149604  2147470777    1\n",
       "149605  2147482216    1\n",
       "\n",
       "[149606 rows x 2 columns]"
      ]
     },
     "metadata": {},
     "output_type": "display_data"
    }
   ],
   "source": [
    "# Сделаем отдельный датасет со спискол студентов ходивших на лекции чтобы поставить флаг ходил или нет\n",
    "df_unique_lectures = pd.DataFrame(list(lectures_join['user_id'].unique()))\n",
    "df_unique_lectures['user_id'] = df_unique_lectures[0]\n",
    "df_unique_lectures = df_unique_lectures.drop(0, axis=1)\n",
    "df_unique_lectures['lec'] = 1\n",
    "display(df_unique_lectures)"
   ]
  },
  {
   "cell_type": "code",
   "execution_count": 7,
   "id": "ecfc5afb",
   "metadata": {},
   "outputs": [
    {
     "name": "stderr",
     "output_type": "stream",
     "text": [
      "C:\\Users\\a_l_b\\anaconda3\\lib\\site-packages\\dask\\dataframe\\io\\csv.py:181: DtypeWarning: Columns (9) have mixed types. Specify dtype option on import or set low_memory=False.\n",
      "  df = reader(bio, **kwargs)\n"
     ]
    }
   ],
   "source": [
    "#Соберем статистику ответов\n",
    "dask_df_s = dask_df.loc[dask_df[\"content_type_id\"] != 1].compute()"
   ]
  },
  {
   "cell_type": "code",
   "execution_count": 8,
   "id": "1448a525",
   "metadata": {},
   "outputs": [
    {
     "name": "stdout",
     "output_type": "stream",
     "text": [
      "<class 'pandas.core.frame.DataFrame'>\n",
      "Int64Index: 99271300 entries, 0 to 1080610\n",
      "Data columns (total 10 columns):\n",
      " #   Column                          Dtype  \n",
      "---  ------                          -----  \n",
      " 0   row_id                          int64  \n",
      " 1   timestamp                       int64  \n",
      " 2   user_id                         int64  \n",
      " 3   content_id                      int64  \n",
      " 4   content_type_id                 int64  \n",
      " 5   task_container_id               int64  \n",
      " 6   user_answer                     int64  \n",
      " 7   answered_correctly              int64  \n",
      " 8   prior_question_elapsed_time     float64\n",
      " 9   prior_question_had_explanation  object \n",
      "dtypes: float64(1), int64(8), object(1)\n",
      "memory usage: 8.1+ GB\n"
     ]
    }
   ],
   "source": [
    "dask_df_s.info()"
   ]
  },
  {
   "cell_type": "code",
   "execution_count": 12,
   "id": "6a06eb5e",
   "metadata": {},
   "outputs": [],
   "source": [
    "# удалим ненужные столбцы\n",
    "dask_df_s = dask_df_s.drop('row_id', axis=1)\n",
    "dask_df_s = dask_df_s.drop('timestamp', axis=1)\n",
    "dask_df_s = dask_df_s.drop('content_type_id', axis=1) # Лекции убрали, столбец стал ненужным\n",
    "dask_df_s = dask_df_s.drop('user_answer', axis=1) # Есть поле верный/неверный ответ, поэтому сам ответ можно получить из таблице вопросов\n",
    "# преобразуем питы чтобы уменьшить место\n",
    "dask_df_s['prior_question_elapsed_time'] = dask_df_s['prior_question_elapsed_time'].astype('category')"
   ]
  },
  {
   "cell_type": "code",
   "execution_count": 13,
   "id": "32cfffec",
   "metadata": {},
   "outputs": [
    {
     "name": "stdout",
     "output_type": "stream",
     "text": [
      "<class 'pandas.core.frame.DataFrame'>\n",
      "Int64Index: 99271300 entries, 0 to 1080610\n",
      "Data columns (total 6 columns):\n",
      " #   Column                          Dtype   \n",
      "---  ------                          -----   \n",
      " 0   user_id                         int64   \n",
      " 1   content_id                      int64   \n",
      " 2   task_container_id               int64   \n",
      " 3   answered_correctly              int64   \n",
      " 4   prior_question_elapsed_time     category\n",
      " 5   prior_question_had_explanation  object  \n",
      "dtypes: category(1), int64(4), object(1)\n",
      "memory usage: 4.6+ GB\n"
     ]
    }
   ],
   "source": [
    "dask_df_s.info()"
   ]
  },
  {
   "cell_type": "code",
   "execution_count": 22,
   "id": "132fdb13",
   "metadata": {},
   "outputs": [],
   "source": [
    "# Соединим два датафрейма - студетов которые ходят на лекции df_unique_lectures и стстистику ответов поставив признак lec\n",
    "dask_df_s_join = dask_df_s.merge(df_unique_lectures, how=\"left\", on=[\"user_id\"])"
   ]
  },
  {
   "cell_type": "code",
   "execution_count": 30,
   "id": "b9a27942",
   "metadata": {},
   "outputs": [],
   "source": [
    "dask_df_s_join['lec'] = dask_df_s_join['lec'].astype('category')"
   ]
  },
  {
   "cell_type": "code",
   "execution_count": 31,
   "id": "f0f4eaad",
   "metadata": {},
   "outputs": [
    {
     "name": "stdout",
     "output_type": "stream",
     "text": [
      "<class 'pandas.core.frame.DataFrame'>\n",
      "Int64Index: 99271300 entries, 0 to 99271299\n",
      "Data columns (total 7 columns):\n",
      " #   Column                          Dtype   \n",
      "---  ------                          -----   \n",
      " 0   user_id                         int64   \n",
      " 1   content_id                      int64   \n",
      " 2   task_container_id               int64   \n",
      " 3   answered_correctly              int64   \n",
      " 4   prior_question_elapsed_time     category\n",
      " 5   prior_question_had_explanation  object  \n",
      " 6   lec                             category\n",
      "dtypes: category(2), int64(4), object(1)\n",
      "memory usage: 4.7+ GB\n"
     ]
    }
   ],
   "source": [
    "dask_df_s_join.info()"
   ]
  },
  {
   "cell_type": "code",
   "execution_count": null,
   "id": "78626788",
   "metadata": {},
   "outputs": [],
   "source": [
    "# сохраним датафрейм и достанем его заново\n",
    "dask_df_s_join.to_csv('data/dask_df_s_join.csv')"
   ]
  },
  {
   "cell_type": "code",
   "execution_count": 3,
   "id": "36eb4e4c",
   "metadata": {},
   "outputs": [],
   "source": [
    "from dask import dataframe as dd\n",
    "dask_df_s_join = dd.read_csv('data/dask_df_s_join.csv')"
   ]
  },
  {
   "cell_type": "code",
   "execution_count": 4,
   "id": "ad558c1c",
   "metadata": {},
   "outputs": [],
   "source": [
    "# Отдельно студентов которые ходят на лекции и поработаем с ними\n",
    "dask_df_stud_wits_lec = dask_df_s_join.loc[dask_df_s_join[\"lec\"] == 1].compute()"
   ]
  },
  {
   "cell_type": "code",
   "execution_count": 5,
   "id": "3ed935ee",
   "metadata": {},
   "outputs": [],
   "source": [
    "# Отдельно студентов которые НЕ ходят на лекции и поработаем с ними\n",
    "dask_df_stud_wits_out_lec = dask_df_s_join.loc[dask_df_s_join[\"lec\"] != 1].compute()"
   ]
  },
  {
   "cell_type": "code",
   "execution_count": 6,
   "id": "535b1224",
   "metadata": {},
   "outputs": [
    {
     "data": {
      "text/plain": [
       "0.6657984511210198"
      ]
     },
     "execution_count": 6,
     "metadata": {},
     "output_type": "execute_result"
    }
   ],
   "source": [
    "dask_df_stud_wits_lec['answered_correctly'].mean()\n",
    "# У тех кто ходит на лекции процент правильных ответов 66.58%"
   ]
  },
  {
   "cell_type": "code",
   "execution_count": 7,
   "id": "3fe31c50",
   "metadata": {},
   "outputs": [
    {
     "data": {
      "text/plain": [
       "0.5721048079369118"
      ]
     },
     "execution_count": 7,
     "metadata": {},
     "output_type": "execute_result"
    }
   ],
   "source": [
    "dask_df_stud_wits_out_lec['answered_correctly'].mean()\n",
    "# У тех кто не ходит на лекции процент правильных ответов 57.21%"
   ]
  },
  {
   "cell_type": "code",
   "execution_count": 8,
   "id": "cc2f972a",
   "metadata": {},
   "outputs": [
    {
     "data": {
      "text/plain": [
       "25706.602822882363"
      ]
     },
     "execution_count": 8,
     "metadata": {},
     "output_type": "execute_result"
    }
   ],
   "source": [
    "dask_df_stud_wits_lec['prior_question_elapsed_time'].mean()\n",
    "# У тех кто ходит на лекции "
   ]
  },
  {
   "cell_type": "code",
   "execution_count": 9,
   "id": "8b61b102",
   "metadata": {},
   "outputs": [
    {
     "data": {
      "text/plain": [
       "23669.0450244644"
      ]
     },
     "execution_count": 9,
     "metadata": {},
     "output_type": "execute_result"
    }
   ],
   "source": [
    "dask_df_stud_wits_out_lec['prior_question_elapsed_time'].mean()\n",
    "# У тех кто не ходит на лекции "
   ]
  }
 ],
 "metadata": {
  "kernelspec": {
   "display_name": "Python 3 (ipykernel)",
   "language": "python",
   "name": "python3"
  },
  "language_info": {
   "codemirror_mode": {
    "name": "ipython",
    "version": 3
   },
   "file_extension": ".py",
   "mimetype": "text/x-python",
   "name": "python",
   "nbconvert_exporter": "python",
   "pygments_lexer": "ipython3",
   "version": "3.9.12"
  }
 },
 "nbformat": 4,
 "nbformat_minor": 5
}
